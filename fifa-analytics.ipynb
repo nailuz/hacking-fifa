{
 "cells": [
  {
   "cell_type": "markdown",
   "metadata": {},
   "source": [
    "# Manipulação e tratamento de dados com Pandas\n",
    "\n",
    "Quem disse que os conhecimentos de um cientista de dados não pode ajudar até um jogador de Fifa? O intuito desse projeto é esboçar na pratica como essa ferramenta pode ser útil para qualquer pessoa!\n",
    "\n",
    "#### Sobre a Kaggle (Home for Data Science)\n",
    "Se você não conhece a [Kaggle](https://www.kaggle.com/), recomendo fortemente que você de uma olhada. Nela você encontra muito conteúdo para área de data science (datasets, competições, cursos), como o caso do data set do [Fifa](https://www.kaggle.com/stefanoleone992/fifa-20-complete-player-dataset/data), que escolhi para esse nosso projeto.\n",
    "\n",
    "#### Requerimentos\n",
    "Iremos trabalhar com a linguagem Python, especificamente com a biblioteca Pandas e Numpy para manipulação e Seaborn e Matplotlib para visualização dos dados. Caso deseje rodar os comandos na sua maquina local, eu utilizei as seguintes configurações:\n",
    "\n",
    "- Python      3.7.7\n",
    "- Numpy       1.17.2\n",
    "- Pandas      0.23.4\n",
    "- Seaborn     0.9.0\n",
    "- Matplotlib  3.1.2\n"
   ]
  },
  {
   "cell_type": "markdown",
   "metadata": {},
   "source": [
    "### Importing libries\n",
    "We will use Pandas and Numpy to manipulate data and matplotlib and seaborn to visualize."
   ]
  },
  {
   "cell_type": "code",
   "execution_count": 7,
   "metadata": {},
   "outputs": [],
   "source": [
    "import numpy as np\n",
    "import pandas as pd\n",
    "import matplotlib.pyplot as plt\n",
    "import seaborn as sns\n",
    "%matplotlib inline"
   ]
  },
  {
   "cell_type": "markdown",
   "metadata": {},
   "source": [
    "### Checking our data\n"
   ]
  },
  {
   "cell_type": "code",
   "execution_count": 8,
   "metadata": {},
   "outputs": [
    {
     "name": "stdout",
     "output_type": "stream",
     "text": [
      "<class 'pandas.core.frame.DataFrame'>\n",
      "RangeIndex: 18278 entries, 0 to 18277\n",
      "Columns: 104 entries, sofifa_id to rb\n",
      "dtypes: float64(16), int64(45), object(43)\n",
      "memory usage: 14.5+ MB\n"
     ]
    }
   ],
   "source": [
    "dataset = pd.read_csv('dataset/players_20.csv')\n",
    "dataset.info()"
   ]
  },
  {
   "cell_type": "code",
   "execution_count": 23,
   "metadata": {},
   "outputs": [
    {
     "data": {
      "text/plain": [
       "1.0"
      ]
     },
     "execution_count": 23,
     "metadata": {},
     "output_type": "execute_result"
    }
   ],
   "source": [
    "cor = dataset.corr()\n",
    "cor['overall'].max()"
   ]
  },
  {
   "cell_type": "code",
   "execution_count": 3,
   "metadata": {
    "scrolled": false
   },
   "outputs": [],
   "source": [
    "cols_players = ['long_name', 'age', 'height_cm', 'weight_kg', \n",
    "                'nationality', 'club', 'overall', 'wage_eur', 'value_eur', \n",
    "                'team_position', 'player_positions', 'pace', \n",
    "                'shooting', 'passing', 'dribbling', 'defending', 'physic']\n",
    "cols_gk = ['long_name', 'age', 'height_cm', 'weight_kg', \n",
    "            'nationality', 'club', 'overall', 'wage_eur', 'value_eur', \n",
    "            'team_position', 'gk_diving', 'gk_handling', \n",
    "            'gk_kicking', 'gk_reflexes', 'gk_speed', 'gk_positioning']\n",
    "\n",
    "players = dataset[cols_players].copy()\n",
    "players = players[players['team_position'] != 'GK']\n",
    "\n",
    "goalkeepers = dataset[cols_gk].copy()\n",
    "goalkeepers = goalkeepers[goalkeepers['team_position'] == 'GK']"
   ]
  },
  {
   "cell_type": "code",
   "execution_count": 4,
   "metadata": {
    "scrolled": true
   },
   "outputs": [
    {
     "data": {
      "text/plain": [
       "(17616, 662)"
      ]
     },
     "execution_count": 4,
     "metadata": {},
     "output_type": "execute_result"
    }
   ],
   "source": [
    "len(players), len(goalkeepers)"
   ]
  },
  {
   "cell_type": "code",
   "execution_count": 5,
   "metadata": {
    "scrolled": true
   },
   "outputs": [
    {
     "data": {
      "text/html": [
       "<div>\n",
       "<style scoped>\n",
       "    .dataframe tbody tr th:only-of-type {\n",
       "        vertical-align: middle;\n",
       "    }\n",
       "\n",
       "    .dataframe tbody tr th {\n",
       "        vertical-align: top;\n",
       "    }\n",
       "\n",
       "    .dataframe thead th {\n",
       "        text-align: right;\n",
       "    }\n",
       "</style>\n",
       "<table border=\"1\" class=\"dataframe\">\n",
       "  <thead>\n",
       "    <tr style=\"text-align: right;\">\n",
       "      <th></th>\n",
       "      <th>long_name</th>\n",
       "      <th>wage_eur</th>\n",
       "      <th>value_eur</th>\n",
       "    </tr>\n",
       "  </thead>\n",
       "  <tbody>\n",
       "    <tr>\n",
       "      <th>2</th>\n",
       "      <td>Neymar da Silva Santos Junior</td>\n",
       "      <td>290000</td>\n",
       "      <td>105500000</td>\n",
       "    </tr>\n",
       "    <tr>\n",
       "      <th>0</th>\n",
       "      <td>Lionel Andrés Messi Cuccittini</td>\n",
       "      <td>565000</td>\n",
       "      <td>95500000</td>\n",
       "    </tr>\n",
       "    <tr>\n",
       "      <th>10</th>\n",
       "      <td>Kylian Mbappé</td>\n",
       "      <td>155000</td>\n",
       "      <td>93500000</td>\n",
       "    </tr>\n",
       "    <tr>\n",
       "      <th>4</th>\n",
       "      <td>Eden Hazard</td>\n",
       "      <td>470000</td>\n",
       "      <td>90000000</td>\n",
       "    </tr>\n",
       "    <tr>\n",
       "      <th>5</th>\n",
       "      <td>Kevin De Bruyne</td>\n",
       "      <td>370000</td>\n",
       "      <td>90000000</td>\n",
       "    </tr>\n",
       "    <tr>\n",
       "      <th>12</th>\n",
       "      <td>Harry Kane</td>\n",
       "      <td>220000</td>\n",
       "      <td>83000000</td>\n",
       "    </tr>\n",
       "    <tr>\n",
       "      <th>9</th>\n",
       "      <td>Mohamed  Salah Ghaly</td>\n",
       "      <td>240000</td>\n",
       "      <td>80500000</td>\n",
       "    </tr>\n",
       "    <tr>\n",
       "      <th>7</th>\n",
       "      <td>Virgil van Dijk</td>\n",
       "      <td>200000</td>\n",
       "      <td>78000000</td>\n",
       "    </tr>\n",
       "    <tr>\n",
       "      <th>23</th>\n",
       "      <td>Paulo Bruno Exequiel Dybala</td>\n",
       "      <td>215000</td>\n",
       "      <td>76500000</td>\n",
       "    </tr>\n",
       "    <tr>\n",
       "      <th>26</th>\n",
       "      <td>Raheem Sterling</td>\n",
       "      <td>255000</td>\n",
       "      <td>73000000</td>\n",
       "    </tr>\n",
       "  </tbody>\n",
       "</table>\n",
       "</div>"
      ],
      "text/plain": [
       "                         long_name  wage_eur  value_eur\n",
       "2    Neymar da Silva Santos Junior    290000  105500000\n",
       "0   Lionel Andrés Messi Cuccittini    565000   95500000\n",
       "10                   Kylian Mbappé    155000   93500000\n",
       "4                      Eden Hazard    470000   90000000\n",
       "5                  Kevin De Bruyne    370000   90000000\n",
       "12                      Harry Kane    220000   83000000\n",
       "9             Mohamed  Salah Ghaly    240000   80500000\n",
       "7                  Virgil van Dijk    200000   78000000\n",
       "23     Paulo Bruno Exequiel Dybala    215000   76500000\n",
       "26                 Raheem Sterling    255000   73000000"
      ]
     },
     "execution_count": 5,
     "metadata": {},
     "output_type": "execute_result"
    }
   ],
   "source": [
    "players[['long_name', 'wage_eur', 'value_eur']].sort_values(by='value_eur', ascending=False).head(10)"
   ]
  },
  {
   "cell_type": "code",
   "execution_count": 6,
   "metadata": {},
   "outputs": [],
   "source": [
    "euro_price = 4.7\n",
    "players['wage_brl'] = players['wage_eur'].apply(lambda salary : (salary * euro_price)/1000)\n",
    "players['value_brl'] = players['value_eur'].apply(lambda salary : (salary * euro_price)/1000000)"
   ]
  },
  {
   "cell_type": "code",
   "execution_count": 7,
   "metadata": {},
   "outputs": [
    {
     "data": {
      "text/html": [
       "<div>\n",
       "<style scoped>\n",
       "    .dataframe tbody tr th:only-of-type {\n",
       "        vertical-align: middle;\n",
       "    }\n",
       "\n",
       "    .dataframe tbody tr th {\n",
       "        vertical-align: top;\n",
       "    }\n",
       "\n",
       "    .dataframe thead th {\n",
       "        text-align: right;\n",
       "    }\n",
       "</style>\n",
       "<table border=\"1\" class=\"dataframe\">\n",
       "  <thead>\n",
       "    <tr style=\"text-align: right;\">\n",
       "      <th></th>\n",
       "      <th>long_name</th>\n",
       "      <th>value_brl</th>\n",
       "      <th>wage_brl</th>\n",
       "    </tr>\n",
       "  </thead>\n",
       "  <tbody>\n",
       "    <tr>\n",
       "      <th>2</th>\n",
       "      <td>Neymar da Silva Santos Junior</td>\n",
       "      <td>495.85</td>\n",
       "      <td>1363.0</td>\n",
       "    </tr>\n",
       "    <tr>\n",
       "      <th>0</th>\n",
       "      <td>Lionel Andrés Messi Cuccittini</td>\n",
       "      <td>448.85</td>\n",
       "      <td>2655.5</td>\n",
       "    </tr>\n",
       "    <tr>\n",
       "      <th>10</th>\n",
       "      <td>Kylian Mbappé</td>\n",
       "      <td>439.45</td>\n",
       "      <td>728.5</td>\n",
       "    </tr>\n",
       "    <tr>\n",
       "      <th>4</th>\n",
       "      <td>Eden Hazard</td>\n",
       "      <td>423.00</td>\n",
       "      <td>2209.0</td>\n",
       "    </tr>\n",
       "    <tr>\n",
       "      <th>5</th>\n",
       "      <td>Kevin De Bruyne</td>\n",
       "      <td>423.00</td>\n",
       "      <td>1739.0</td>\n",
       "    </tr>\n",
       "    <tr>\n",
       "      <th>12</th>\n",
       "      <td>Harry Kane</td>\n",
       "      <td>390.10</td>\n",
       "      <td>1034.0</td>\n",
       "    </tr>\n",
       "    <tr>\n",
       "      <th>9</th>\n",
       "      <td>Mohamed  Salah Ghaly</td>\n",
       "      <td>378.35</td>\n",
       "      <td>1128.0</td>\n",
       "    </tr>\n",
       "    <tr>\n",
       "      <th>7</th>\n",
       "      <td>Virgil van Dijk</td>\n",
       "      <td>366.60</td>\n",
       "      <td>940.0</td>\n",
       "    </tr>\n",
       "    <tr>\n",
       "      <th>23</th>\n",
       "      <td>Paulo Bruno Exequiel Dybala</td>\n",
       "      <td>359.55</td>\n",
       "      <td>1010.5</td>\n",
       "    </tr>\n",
       "    <tr>\n",
       "      <th>26</th>\n",
       "      <td>Raheem Sterling</td>\n",
       "      <td>343.10</td>\n",
       "      <td>1198.5</td>\n",
       "    </tr>\n",
       "  </tbody>\n",
       "</table>\n",
       "</div>"
      ],
      "text/plain": [
       "                         long_name  value_brl  wage_brl\n",
       "2    Neymar da Silva Santos Junior     495.85    1363.0\n",
       "0   Lionel Andrés Messi Cuccittini     448.85    2655.5\n",
       "10                   Kylian Mbappé     439.45     728.5\n",
       "4                      Eden Hazard     423.00    2209.0\n",
       "5                  Kevin De Bruyne     423.00    1739.0\n",
       "12                      Harry Kane     390.10    1034.0\n",
       "9             Mohamed  Salah Ghaly     378.35    1128.0\n",
       "7                  Virgil van Dijk     366.60     940.0\n",
       "23     Paulo Bruno Exequiel Dybala     359.55    1010.5\n",
       "26                 Raheem Sterling     343.10    1198.5"
      ]
     },
     "execution_count": 7,
     "metadata": {},
     "output_type": "execute_result"
    }
   ],
   "source": [
    "players[['long_name', 'value_brl', 'wage_brl']].sort_values(by='value_brl', ascending=False).head(10)"
   ]
  },
  {
   "cell_type": "code",
   "execution_count": 8,
   "metadata": {},
   "outputs": [
    {
     "data": {
      "text/html": [
       "<div>\n",
       "<style scoped>\n",
       "    .dataframe tbody tr th:only-of-type {\n",
       "        vertical-align: middle;\n",
       "    }\n",
       "\n",
       "    .dataframe tbody tr th {\n",
       "        vertical-align: top;\n",
       "    }\n",
       "\n",
       "    .dataframe thead th {\n",
       "        text-align: right;\n",
       "    }\n",
       "</style>\n",
       "<table border=\"1\" class=\"dataframe\">\n",
       "  <thead>\n",
       "    <tr style=\"text-align: right;\">\n",
       "      <th></th>\n",
       "      <th>long_name</th>\n",
       "      <th>value_brl</th>\n",
       "      <th>wage_brl</th>\n",
       "      <th>overall</th>\n",
       "      <th>team_position</th>\n",
       "      <th>nationality</th>\n",
       "      <th>age</th>\n",
       "    </tr>\n",
       "  </thead>\n",
       "  <tbody>\n",
       "    <tr>\n",
       "      <th>0</th>\n",
       "      <td>Lionel Andrés Messi Cuccittini</td>\n",
       "      <td>448.85</td>\n",
       "      <td>2655.5</td>\n",
       "      <td>94</td>\n",
       "      <td>RW</td>\n",
       "      <td>Argentina</td>\n",
       "      <td>32</td>\n",
       "    </tr>\n",
       "    <tr>\n",
       "      <th>1</th>\n",
       "      <td>Cristiano Ronaldo dos Santos Aveiro</td>\n",
       "      <td>274.95</td>\n",
       "      <td>1903.5</td>\n",
       "      <td>93</td>\n",
       "      <td>LW</td>\n",
       "      <td>Portugal</td>\n",
       "      <td>34</td>\n",
       "    </tr>\n",
       "    <tr>\n",
       "      <th>2</th>\n",
       "      <td>Neymar da Silva Santos Junior</td>\n",
       "      <td>495.85</td>\n",
       "      <td>1363.0</td>\n",
       "      <td>92</td>\n",
       "      <td>CAM</td>\n",
       "      <td>Brazil</td>\n",
       "      <td>27</td>\n",
       "    </tr>\n",
       "    <tr>\n",
       "      <th>4</th>\n",
       "      <td>Eden Hazard</td>\n",
       "      <td>423.00</td>\n",
       "      <td>2209.0</td>\n",
       "      <td>91</td>\n",
       "      <td>LW</td>\n",
       "      <td>Belgium</td>\n",
       "      <td>28</td>\n",
       "    </tr>\n",
       "    <tr>\n",
       "      <th>5</th>\n",
       "      <td>Kevin De Bruyne</td>\n",
       "      <td>423.00</td>\n",
       "      <td>1739.0</td>\n",
       "      <td>91</td>\n",
       "      <td>RCM</td>\n",
       "      <td>Belgium</td>\n",
       "      <td>28</td>\n",
       "    </tr>\n",
       "  </tbody>\n",
       "</table>\n",
       "</div>"
      ],
      "text/plain": [
       "                             long_name  value_brl  wage_brl  overall  \\\n",
       "0       Lionel Andrés Messi Cuccittini     448.85    2655.5       94   \n",
       "1  Cristiano Ronaldo dos Santos Aveiro     274.95    1903.5       93   \n",
       "2        Neymar da Silva Santos Junior     495.85    1363.0       92   \n",
       "4                          Eden Hazard     423.00    2209.0       91   \n",
       "5                      Kevin De Bruyne     423.00    1739.0       91   \n",
       "\n",
       "  team_position nationality  age  \n",
       "0            RW   Argentina   32  \n",
       "1            LW    Portugal   34  \n",
       "2           CAM      Brazil   27  \n",
       "4            LW     Belgium   28  \n",
       "5           RCM     Belgium   28  "
      ]
     },
     "execution_count": 8,
     "metadata": {},
     "output_type": "execute_result"
    }
   ],
   "source": [
    "top_100 = players[['long_name', 'value_brl', 'wage_brl', 'overall', 'team_position', 'nationality', 'age']].sort_values(by='overall', ascending=False).head(100)\n",
    "top_100.head()"
   ]
  },
  {
   "cell_type": "code",
   "execution_count": 9,
   "metadata": {},
   "outputs": [
    {
     "data": {
      "text/plain": [
       "<matplotlib.axes._subplots.AxesSubplot at 0x7fe9c630c630>"
      ]
     },
     "execution_count": 9,
     "metadata": {},
     "output_type": "execute_result"
    },
    {
     "data": {
      "image/png": "[encoded data removed]",
      "text/plain": [
       "<Figure size 432x288 with 1 Axes>"
      ]
     },
     "metadata": {
      "needs_background": "light"
     },
     "output_type": "display_data"
    }
   ],
   "source": [
    "sns.distplot(top_100['age'])"
   ]
  },
  {
   "cell_type": "code",
   "execution_count": 12,
   "metadata": {},
   "outputs": [
    {
     "data": {
      "text/plain": [
       "count    100.000000\n",
       "mean      28.290000\n",
       "std        3.388319\n",
       "min       19.000000\n",
       "25%       26.000000\n",
       "50%       28.000000\n",
       "75%       31.000000\n",
       "max       37.000000\n",
       "Name: age, dtype: float64"
      ]
     },
     "execution_count": 12,
     "metadata": {},
     "output_type": "execute_result"
    }
   ],
   "source": [
    "top_100['age'].describe()"
   ]
  },
  {
   "cell_type": "markdown",
   "metadata": {},
   "source": [
    "![Versões](assets/check_version.png)"
   ]
  },
  {
   "cell_type": "code",
   "execution_count": 117,
   "metadata": {},
   "outputs": [
    {
     "data": {
      "text/plain": [
       "SUB    16\n",
       "LCB    10\n",
       "ST     10\n",
       "RCB     9\n",
       "RCM     8\n",
       "CDM     6\n",
       "LW      6\n",
       "LCM     6\n",
       "LB      5\n",
       "RW      5\n",
       "CAM     3\n",
       "LM      2\n",
       "LS      2\n",
       "CF      2\n",
       "RM      2\n",
       "RB      2\n",
       "LDM     2\n",
       "RAM     1\n",
       "RES     1\n",
       "RDM     1\n",
       "RS      1\n",
       "Name: team_position, dtype: int64"
      ]
     },
     "execution_count": 117,
     "metadata": {},
     "output_type": "execute_result"
    }
   ],
   "source": [
    "top_100['team_position'].value_counts()"
   ]
  },
  {
   "cell_type": "code",
   "execution_count": 131,
   "metadata": {},
   "outputs": [],
   "source": [
    "players['e'] = 1"
   ]
  },
  {
   "cell_type": "code",
   "execution_count": 15,
   "metadata": {},
   "outputs": [
    {
     "data": {
      "text/plain": [
       "<seaborn.matrix.ClusterGrid at 0x7fe9c0d940f0>"
      ]
     },
     "execution_count": 15,
     "metadata": {},
     "output_type": "execute_result"
    },
    {
     "data": {
      "text/plain": [
       "<Figure size 864x432 with 0 Axes>"
      ]
     },
     "metadata": {},
     "output_type": "display_data"
    },
    {
     "data": {
      "image/png": "[encoded data removed]",
      "text/plain": [
       "<Figure size 720x720 with 4 Axes>"
      ]
     },
     "metadata": {
      "needs_background": "light"
     },
     "output_type": "display_data"
    }
   ],
   "source": [
    "skills = ['pace', 'shooting', 'passing', 'dribbling', 'defending', 'physic']\n",
    "table = players.groupby(by='team_position')[skills].mean()\n",
    "plt.figure(figsize=(12,6))\n",
    "sns.clustermap(table, cmap='Blues')"
   ]
  }
 ],
 "metadata": {
  "kernelspec": {
   "display_name": "Python 3",
   "language": "python",
   "name": "python3"
  },
  "language_info": {
   "codemirror_mode": {
    "name": "ipython",
    "version": 3
   },
   "file_extension": ".py",
   "mimetype": "text/x-python",
   "name": "python",
   "nbconvert_exporter": "python",
   "pygments_lexer": "ipython3",
   "version": "3.7.3"
  }
 },
 "nbformat": 4,
 "nbformat_minor": 2
}
